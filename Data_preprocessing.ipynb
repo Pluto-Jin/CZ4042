{
  "nbformat": 4,
  "nbformat_minor": 0,
  "metadata": {
    "colab": {
      "name": "Untitled0.ipynb",
      "provenance": []
    },
    "kernelspec": {
      "name": "python3",
      "display_name": "Python 3"
    },
    "language_info": {
      "name": "python"
    },
    "accelerator": "GPU"
  },
  "cells": [
    {
      "cell_type": "code",
      "metadata": {
        "colab": {
          "base_uri": "https://localhost:8080/"
        },
        "id": "fLuDqlwxfHOf",
        "outputId": "2e0491f7-9c3e-406a-8d61-3a88d4d95ba6"
      },
      "source": [
        "from google.colab import drive\n",
        "drive.mount('/content/drive')"
      ],
      "execution_count": null,
      "outputs": [
        {
          "output_type": "stream",
          "name": "stdout",
          "text": [
            "Drive already mounted at /content/drive; to attempt to forcibly remount, call drive.mount(\"/content/drive\", force_remount=True).\n"
          ]
        }
      ]
    },
    {
      "cell_type": "code",
      "metadata": {
        "id": "wSAGPulnfkGw"
      },
      "source": [
        "!tar -xf ./drive/MyDrive/aligned.tar.gz"
      ],
      "execution_count": null,
      "outputs": []
    },
    {
      "cell_type": "code",
      "metadata": {
        "id": "iKApLFdVfjYT"
      },
      "source": [
        "import os\n",
        "\n",
        "#clean img_name\n",
        "for subdir, dirs, files in os.walk('./aligned'):\n",
        "    for filename in files:\n",
        "        tmp = filename.split('.')\n",
        "        if len(tmp)>2:\n",
        "            filename_new = tmp[-2] + '.' + tmp[-1]\n",
        "            os.rename(os.path.join(subdir,filename), os.path.join(subdir,filename_new))"
      ],
      "execution_count": null,
      "outputs": []
    },
    {
      "cell_type": "code",
      "metadata": {
        "id": "T7v6jN53Oh3p"
      },
      "source": [
        "import torch"
      ],
      "execution_count": null,
      "outputs": []
    },
    {
      "cell_type": "code",
      "metadata": {
        "colab": {
          "base_uri": "https://localhost:8080/"
        },
        "id": "ehfyxABHV_Rw",
        "outputId": "9f36b8d0-8114-4256-eb45-3e6297a2cf32"
      },
      "source": [
        "annotations_files = ['fold_0_data.txt','fold_1_data.txt','fold_2_data.txt','fold_3_data.txt','fold_4_data.txt']\n",
        "data = pd.concat([pd.read_csv(i, delimiter='\\t') for i in annotations_files])\n",
        "data.shape"
      ],
      "execution_count": null,
      "outputs": [
        {
          "output_type": "execute_result",
          "data": {
            "text/plain": [
              "(19370, 12)"
            ]
          },
          "metadata": {},
          "execution_count": 3
        }
      ]
    },
    {
      "cell_type": "code",
      "metadata": {
        "colab": {
          "base_uri": "https://localhost:8080/"
        },
        "id": "Fgb_w5AJWQuL",
        "outputId": "cc066436-6e80-459d-840a-ee20a9d8e17e"
      },
      "source": [
        "data['gender'].unique()"
      ],
      "execution_count": null,
      "outputs": [
        {
          "output_type": "execute_result",
          "data": {
            "text/plain": [
              "array(['f', 'm', nan, 'u'], dtype=object)"
            ]
          },
          "metadata": {},
          "execution_count": 4
        }
      ]
    },
    {
      "cell_type": "code",
      "metadata": {
        "id": "R0Ye0IYm1hxa"
      },
      "source": [
        "import pandas as pd\n",
        "import os"
      ],
      "execution_count": null,
      "outputs": []
    },
    {
      "cell_type": "code",
      "metadata": {
        "colab": {
          "base_uri": "https://localhost:8080/"
        },
        "id": "mUe9r3UYWrxU",
        "outputId": "47ea4d8f-3f94-46b5-8cfe-5544750cb82d"
      },
      "source": [
        "g = data['gender']\n",
        "data = data[(g=='f')|(g=='m')]\n",
        "data['gender'] = data['gender'].map(lambda x: (int)(x=='f'))\n",
        "data.shape"
      ],
      "execution_count": null,
      "outputs": [
        {
          "output_type": "stream",
          "name": "stderr",
          "text": [
            "/usr/local/lib/python3.7/dist-packages/ipykernel_launcher.py:3: SettingWithCopyWarning: \n",
            "A value is trying to be set on a copy of a slice from a DataFrame.\n",
            "Try using .loc[row_indexer,col_indexer] = value instead\n",
            "\n",
            "See the caveats in the documentation: https://pandas.pydata.org/pandas-docs/stable/user_guide/indexing.html#returning-a-view-versus-a-copy\n",
            "  This is separate from the ipykernel package so we can avoid doing imports until\n"
          ]
        },
        {
          "output_type": "execute_result",
          "data": {
            "text/plain": [
              "(17492, 12)"
            ]
          },
          "metadata": {},
          "execution_count": 5
        }
      ]
    },
    {
      "cell_type": "code",
      "metadata": {
        "id": "CtLobvzFbg1A"
      },
      "source": [
        "img_paths = []\n",
        "for i in data.iterrows():\n",
        "    img_paths.append(os.path.join(i[1]['user_id'], i[1]['original_image']))\n",
        "data['img_path'] = img_paths"
      ],
      "execution_count": null,
      "outputs": []
    },
    {
      "cell_type": "code",
      "metadata": {
        "colab": {
          "base_uri": "https://localhost:8080/"
        },
        "id": "kFQMdv1odqGD",
        "outputId": "019dc9e4-ce05-4eaf-9dcf-e432d72ae26f"
      },
      "source": [
        "data['img_path']"
      ],
      "execution_count": null,
      "outputs": [
        {
          "output_type": "execute_result",
          "data": {
            "text/plain": [
              "0        30601258@N03/10399646885_67c7d20df9_o.jpg\n",
              "1        30601258@N03/10424815813_e94629b1ec_o.jpg\n",
              "2        30601258@N03/10437979845_5985be4b26_o.jpg\n",
              "3        30601258@N03/10437979845_5985be4b26_o.jpg\n",
              "4        30601258@N03/11816644924_075c3d8d59_o.jpg\n",
              "                           ...                    \n",
              "3787    101515718@N03/10587826073_6663f5b654_o.jpg\n",
              "3788    101515718@N03/10587571495_a61785cd06_o.jpg\n",
              "3789    101515718@N03/10587571495_a61785cd06_o.jpg\n",
              "3790      50458575@N08/9426695459_9e8b347604_o.jpg\n",
              "3791      50458575@N08/9429464468_1bfc39ecfb_o.jpg\n",
              "Name: img_path, Length: 17492, dtype: object"
            ]
          },
          "metadata": {},
          "execution_count": 9
        }
      ]
    },
    {
      "cell_type": "code",
      "metadata": {
        "colab": {
          "base_uri": "https://localhost:8080/"
        },
        "id": "MHSXlrLFfS4e",
        "outputId": "9da708b8-2df8-4f71-81c1-a4da63fd1fbe"
      },
      "source": [
        "X = data[['img_path']]\n",
        "y = data[['gender']]\n",
        "from sklearn.model_selection import train_test_split\n",
        "X_train, X_test, y_train, y_test = train_test_split(X, y, test_size=0.2, random_state=42)\n",
        "\n",
        "print('Train data shape {}'.format(X_train.shape))\n",
        "print('Test data shape {}'.format(X_test.shape))"
      ],
      "execution_count": null,
      "outputs": [
        {
          "output_type": "stream",
          "name": "stdout",
          "text": [
            "Train data shape (13993, 1)\n",
            "Test data shape (3499, 1)\n"
          ]
        }
      ]
    },
    {
      "cell_type": "code",
      "metadata": {
        "id": "N6INyZrbgJ8W"
      },
      "source": [
        "X_train.to_csv('X_train.csv', index=False)\n",
        "y_train.to_csv('y_train.csv', index=False)\n",
        "X_test.to_csv('X_test.csv', index=False)\n",
        "y_test.to_csv('y_test.csv', index=False)"
      ],
      "execution_count": null,
      "outputs": []
    },
    {
      "cell_type": "code",
      "metadata": {
        "id": "GfdD5bX-iOG8"
      },
      "source": [
        ""
      ],
      "execution_count": null,
      "outputs": []
    }
  ]
}