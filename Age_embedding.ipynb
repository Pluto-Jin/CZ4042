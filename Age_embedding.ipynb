{
  "nbformat": 4,
  "nbformat_minor": 0,
  "metadata": {
    "colab": {
      "name": "age_embedding.ipynb",
      "provenance": []
    },
    "kernelspec": {
      "name": "python3",
      "display_name": "Python 3"
    },
    "language_info": {
      "name": "python"
    }
  },
  "cells": [
    {
      "cell_type": "code",
      "metadata": {
        "id": "T7v6jN53Oh3p"
      },
      "source": [
        "import torch"
      ],
      "execution_count": 2,
      "outputs": []
    },
    {
      "cell_type": "code",
      "metadata": {
        "id": "R0Ye0IYm1hxa"
      },
      "source": [
        "import pandas as pd\n",
        "import os"
      ],
      "execution_count": 3,
      "outputs": []
    },
    {
      "cell_type": "code",
      "metadata": {
        "colab": {
          "base_uri": "https://localhost:8080/"
        },
        "id": "ehfyxABHV_Rw",
        "outputId": "469726ce-6a65-40bf-e28e-1a95514e3d8b"
      },
      "source": [
        "annotations_files = ['fold_0_data.txt','fold_1_data.txt','fold_2_data.txt','fold_3_data.txt','fold_4_data.txt']\n",
        "data = pd.concat([pd.read_csv(i, delimiter='\\t') for i in annotations_files])\n",
        "data.shape"
      ],
      "execution_count": 4,
      "outputs": [
        {
          "output_type": "execute_result",
          "data": {
            "text/plain": [
              "(19370, 12)"
            ]
          },
          "metadata": {},
          "execution_count": 4
        }
      ]
    },
    {
      "cell_type": "code",
      "metadata": {
        "colab": {
          "base_uri": "https://localhost:8080/"
        },
        "id": "Fgb_w5AJWQuL",
        "outputId": "b05bfe1a-9c18-4868-aa2c-99f516502e20"
      },
      "source": [
        "data['gender'].unique()"
      ],
      "execution_count": 5,
      "outputs": [
        {
          "output_type": "execute_result",
          "data": {
            "text/plain": [
              "array(['f', 'm', nan, 'u'], dtype=object)"
            ]
          },
          "metadata": {},
          "execution_count": 5
        }
      ]
    },
    {
      "cell_type": "code",
      "metadata": {
        "colab": {
          "base_uri": "https://localhost:8080/"
        },
        "id": "mUe9r3UYWrxU",
        "outputId": "3afed7ab-cc6b-477e-c336-77e02ffa59a7"
      },
      "source": [
        "g = data['gender']\n",
        "data = data[(g=='f')|(g=='m')]\n",
        "data['gender'] = data['gender'].map(lambda x: (int)(x=='f'))\n",
        "data.shape"
      ],
      "execution_count": 6,
      "outputs": [
        {
          "output_type": "execute_result",
          "data": {
            "text/plain": [
              "(17492, 12)"
            ]
          },
          "metadata": {},
          "execution_count": 6
        }
      ]
    },
    {
      "cell_type": "code",
      "metadata": {
        "id": "CtLobvzFbg1A"
      },
      "source": [
        "img_paths = []\n",
        "for i in data.iterrows():\n",
        "    img_paths.append(os.path.join(i[1]['user_id'], i[1]['original_image']))\n",
        "data['img_path'] = img_paths"
      ],
      "execution_count": 7,
      "outputs": []
    },
    {
      "cell_type": "code",
      "metadata": {
        "colab": {
          "base_uri": "https://localhost:8080/"
        },
        "id": "kFQMdv1odqGD",
        "outputId": "f10c1930-fe58-41a6-8200-a98ef299e1c7"
      },
      "source": [
        "data['age'].value_counts()"
      ],
      "execution_count": 8,
      "outputs": [
        {
          "output_type": "execute_result",
          "data": {
            "text/plain": [
              "(25, 32)     4951\n",
              "(38, 43)     2293\n",
              "(4, 6)       2139\n",
              "(8, 12)      2117\n",
              "(15, 20)     1640\n",
              "(0, 2)       1397\n",
              "(60, 100)     866\n",
              "(48, 53)      825\n",
              "35            293\n",
              "13            168\n",
              "22            149\n",
              "34            105\n",
              "23             96\n",
              "45             88\n",
              "(27, 32)       77\n",
              "55             76\n",
              "36             56\n",
              "(38, 42)       46\n",
              "None           40\n",
              "57             24\n",
              "3              18\n",
              "29             11\n",
              "(38, 48)        6\n",
              "58              5\n",
              "2               3\n",
              "46              1\n",
              "(8, 23)         1\n",
              "42              1\n",
              "Name: age, dtype: int64"
            ]
          },
          "metadata": {},
          "execution_count": 8
        }
      ]
    },
    {
      "cell_type": "code",
      "metadata": {
        "id": "ntEuD_-8Zr2L"
      },
      "source": [
        "ag = [(0,3),(4,7),(8,14),(15,20),(21,32),(33,43),(44,59),(60,100)]"
      ],
      "execution_count": 9,
      "outputs": []
    },
    {
      "cell_type": "code",
      "metadata": {
        "id": "MHSXlrLFfS4e"
      },
      "source": [
        "age_embedding, is_baby = [], []\n",
        "for i in data.iterrows():\n",
        "    a = i[1]['age']\n",
        "    try:\n",
        "        a = int(a)\n",
        "    except:\n",
        "        pass\n",
        "    if a == 'None':\n",
        "        res = 0\n",
        "    else:\n",
        "        if type(a) is not int:\n",
        "            a = int(a[1:-1].split(',')[0])\n",
        "        for x,y in enumerate(ag):\n",
        "            if a >= y[0] and a <= y[1]:\n",
        "                res = x + 1\n",
        "                break\n",
        "    age_embedding.append(res)\n",
        "    is_baby.append(int(res==1))\n",
        "    \n",
        "data['age_embedding'], data['is_baby'] = age_embedding, is_baby"
      ],
      "execution_count": 10,
      "outputs": []
    },
    {
      "cell_type": "code",
      "metadata": {
        "colab": {
          "base_uri": "https://localhost:8080/"
        },
        "id": "y39jSOL6hvYX",
        "outputId": "14431369-e974-4540-ea87-7a9283f95284"
      },
      "source": [
        "data['age_embedding'].value_counts()"
      ],
      "execution_count": 11,
      "outputs": [
        {
          "output_type": "execute_result",
          "data": {
            "text/plain": [
              "5    5284\n",
              "6    2800\n",
              "3    2286\n",
              "2    2139\n",
              "4    1640\n",
              "1    1418\n",
              "7    1019\n",
              "8     866\n",
              "0      40\n",
              "Name: age_embedding, dtype: int64"
            ]
          },
          "metadata": {},
          "execution_count": 11
        }
      ]
    },
    {
      "cell_type": "code",
      "metadata": {
        "colab": {
          "base_uri": "https://localhost:8080/"
        },
        "id": "J7mEo0V9iJQX",
        "outputId": "e17456c9-2bba-4e79-ddda-f757a5ed0c0d"
      },
      "source": [
        "data['is_baby'].value_counts()"
      ],
      "execution_count": 12,
      "outputs": [
        {
          "output_type": "execute_result",
          "data": {
            "text/plain": [
              "0    16074\n",
              "1     1418\n",
              "Name: is_baby, dtype: int64"
            ]
          },
          "metadata": {},
          "execution_count": 12
        }
      ]
    },
    {
      "cell_type": "code",
      "metadata": {
        "id": "cIZovG3miPH6"
      },
      "source": [
        "train = pd.read_csv(\"X_train.csv\")\n",
        "test = pd.read_csv(\"X_test.csv\")"
      ],
      "execution_count": 13,
      "outputs": []
    },
    {
      "cell_type": "code",
      "metadata": {
        "id": "N6INyZrbgJ8W"
      },
      "source": [
        "age_embedding, is_baby = [], []\n",
        "for i in train.iterrows():\n",
        "    img = i[1]['img_path']\n",
        "    row = data.loc[data['img_path']==img]\n",
        "    age_embedding.append(row.iloc[0]['age_embedding'])\n",
        "    is_baby.append(row.iloc[0]['is_baby'])"
      ],
      "execution_count": 15,
      "outputs": []
    },
    {
      "cell_type": "code",
      "metadata": {
        "id": "fsrf2Gs1kT7e"
      },
      "source": [
        "train['age_embed'], train['is_baby'] = age_embedding, is_baby"
      ],
      "execution_count": 16,
      "outputs": []
    },
    {
      "cell_type": "code",
      "metadata": {
        "colab": {
          "base_uri": "https://localhost:8080/"
        },
        "id": "MDusAw7WldY2",
        "outputId": "ea360371-bc35-4142-d753-c42e384350d0"
      },
      "source": [
        "train['age_embed'].value_counts()"
      ],
      "execution_count": 17,
      "outputs": [
        {
          "output_type": "execute_result",
          "data": {
            "text/plain": [
              "5    4501\n",
              "6    2533\n",
              "3    1727\n",
              "4    1348\n",
              "2    1326\n",
              "1     933\n",
              "7     866\n",
              "8     735\n",
              "0      24\n",
              "Name: age_embed, dtype: int64"
            ]
          },
          "metadata": {},
          "execution_count": 17
        }
      ]
    },
    {
      "cell_type": "code",
      "metadata": {
        "id": "AU9UKIn1kdcq"
      },
      "source": [
        "age_embedding, is_baby = [], []\n",
        "for i in test.iterrows():\n",
        "    img = i[1]['img_path']\n",
        "    row = data.loc[data['img_path']==img]\n",
        "    age_embedding.append(row.iloc[0]['age_embedding'])\n",
        "    is_baby.append(row.iloc[0]['is_baby'])\n",
        "test['age_embed'], test['is_baby'] = age_embedding, is_baby"
      ],
      "execution_count": 18,
      "outputs": []
    },
    {
      "cell_type": "code",
      "metadata": {
        "colab": {
          "base_uri": "https://localhost:8080/"
        },
        "id": "GESRVGa3nXY2",
        "outputId": "cd39463e-d4b0-49bb-dcbc-7be233222ad7"
      },
      "source": [
        "test['age_embed'].value_counts()"
      ],
      "execution_count": 19,
      "outputs": [
        {
          "output_type": "execute_result",
          "data": {
            "text/plain": [
              "5    1153\n",
              "6     599\n",
              "3     392\n",
              "2     351\n",
              "4     327\n",
              "1     241\n",
              "7     228\n",
              "8     197\n",
              "0      11\n",
              "Name: age_embed, dtype: int64"
            ]
          },
          "metadata": {},
          "execution_count": 19
        }
      ]
    },
    {
      "cell_type": "code",
      "metadata": {
        "id": "GfdD5bX-iOG8"
      },
      "source": [
        "train.to_csv('X_train.csv', index=False)\n",
        "test.to_csv('X_test.csv', index=False)"
      ],
      "execution_count": 20,
      "outputs": []
    },
    {
      "cell_type": "code",
      "metadata": {
        "id": "JLqejCRUohWR"
      },
      "source": [
        ""
      ],
      "execution_count": 20,
      "outputs": []
    }
  ]
}